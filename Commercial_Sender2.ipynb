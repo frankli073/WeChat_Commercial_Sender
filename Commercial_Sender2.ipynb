{
 "cells": [
  {
   "cell_type": "code",
   "execution_count": 16,
   "id": "3fec8452-adc7-4e2f-86f4-cad8458922e0",
   "metadata": {},
   "outputs": [
    {
     "name": "stdout",
     "output_type": "stream",
     "text": [
      "['cakey', 'doughy']\n"
     ]
    }
   ],
   "source": [
    "class Doughnut:\n",
    "\n",
    "    categories = ['cakey', 'doughy']\n",
    "\n",
    "    def __init__(self, category, flavor):\n",
    "        if category not in Doughnut.categories:\n",
    "            self.category = 'doughy'\n",
    "        else:\n",
    "            self.category = category\n",
    "        self.flavor = flavor\n",
    "\n",
    "print(Doughnut.categories)\n"
   ]
  },
  {
   "cell_type": "code",
   "execution_count": 14,
   "id": "a906a504-32f9-48ad-9879-a997bd1c51b8",
   "metadata": {},
   "outputs": [
    {
     "data": {
      "text/plain": [
       "<__main__.C at 0x7fb261433b20>"
      ]
     },
     "execution_count": 14,
     "metadata": {},
     "output_type": "execute_result"
    }
   ],
   "source": [
    "c"
   ]
  },
  {
   "cell_type": "code",
   "execution_count": 10,
   "id": "e15ecbad-0875-40e1-ae82-89a31c33e39f",
   "metadata": {},
   "outputs": [
    {
     "name": "stdout",
     "output_type": "stream",
     "text": [
      "enigma\n",
      "enigma\n"
     ]
    }
   ],
   "source": [
    "m = MyClass()\n",
    "m.mystery('enigma')\n",
    "MyClass.mystery('enigma') "
   ]
  },
  {
   "cell_type": "code",
   "execution_count": 1,
   "id": "9eb9b469",
   "metadata": {},
   "outputs": [],
   "source": [
    "import pyautogui as pg\n",
    "import random\n",
    "import pandas as pd\n",
    "import time"
   ]
  },
  {
   "cell_type": "code",
   "execution_count": 312,
   "id": "d6db238c",
   "metadata": {},
   "outputs": [],
   "source": [
    "#Scrolling_down\n",
    "pg.moveTo(220,600)\n",
    "pg.click()\n",
    "pg.vscroll(-5.3)\n"
   ]
  },
  {
   "cell_type": "code",
   "execution_count": 310,
   "id": "da807ad4",
   "metadata": {
    "scrolled": true
   },
   "outputs": [],
   "source": [
    "pg.moveTo(220,600)\n",
    "pg.click()\n",
    "pg.vscroll(-5)"
   ]
  },
  {
   "cell_type": "code",
   "execution_count": 299,
   "id": "b8ae8f4f",
   "metadata": {},
   "outputs": [],
   "source": [
    "pg.moveTo(300,460)\n",
    "pg.click(button='RIGHT')\n",
    "pg.moveTo(350,600) "
   ]
  },
  {
   "cell_type": "code",
   "execution_count": 304,
   "id": "56834b43",
   "metadata": {},
   "outputs": [],
   "source": [
    "pg.moveTo(300,510)\n",
    "pg.click(button='RIGHT')\n",
    "pg.moveTo(350,650)"
   ]
  },
  {
   "cell_type": "code",
   "execution_count": 284,
   "id": "fd7ea870",
   "metadata": {},
   "outputs": [],
   "source": [
    "pg.moveTo(300,570)\n",
    "pg.click(button='RIGHT')\n",
    "pg.moveTo(350,660)"
   ]
  },
  {
   "cell_type": "code",
   "execution_count": 321,
   "id": "fb4f5110",
   "metadata": {},
   "outputs": [],
   "source": [
    "pg.moveTo(300,470)\n",
    "pg.click(button='RIGHT')\n",
    "pg.moveTo(350,610)"
   ]
  },
  {
   "cell_type": "code",
   "execution_count": 323,
   "id": "20d517ee",
   "metadata": {},
   "outputs": [],
   "source": [
    "pg.moveTo(300,520)\n",
    "pg.click(button='RIGHT')\n",
    "pg.moveTo(350,660)"
   ]
  },
  {
   "cell_type": "code",
   "execution_count": 322,
   "id": "bb5dfb37",
   "metadata": {},
   "outputs": [],
   "source": [
    "pg.moveTo(300,560)\n",
    "pg.click(button='RIGHT')\n",
    "pg.moveTo(350,660)"
   ]
  },
  {
   "cell_type": "code",
   "execution_count": 264,
   "id": "d60b1e9e",
   "metadata": {},
   "outputs": [],
   "source": [
    "pg.moveTo(300,550,duration=0.55)"
   ]
  },
  {
   "cell_type": "code",
   "execution_count": 392,
   "id": "afe15bb4",
   "metadata": {
    "scrolled": true
   },
   "outputs": [
    {
     "ename": "FailSafeException",
     "evalue": "PyAutoGUI fail-safe triggered from mouse moving to a corner of the screen. To disable this fail-safe, set pyautogui.FAILSAFE to False. DISABLING FAIL-SAFE IS NOT RECOMMENDED.",
     "output_type": "error",
     "traceback": [
      "\u001b[0;31m---------------------------------------------------------------------------\u001b[0m",
      "\u001b[0;31mFailSafeException\u001b[0m                         Traceback (most recent call last)",
      "Input \u001b[0;32mIn [392]\u001b[0m, in \u001b[0;36m<cell line: 85>\u001b[0;34m()\u001b[0m\n\u001b[1;32m     82\u001b[0m pg\u001b[38;5;241m.\u001b[39mhotkey(\u001b[38;5;124m'\u001b[39m\u001b[38;5;124mcommand\u001b[39m\u001b[38;5;124m'\u001b[39m,\u001b[38;5;124m'\u001b[39m\u001b[38;5;124mv\u001b[39m\u001b[38;5;124m'\u001b[39m,interval \u001b[38;5;241m=\u001b[39m \u001b[38;5;241m0.15\u001b[39m)\n\u001b[1;32m     83\u001b[0m pg\u001b[38;5;241m.\u001b[39mmoveTo(\u001b[38;5;241m300\u001b[39m,\u001b[38;5;241m520\u001b[39m,duration\u001b[38;5;241m=\u001b[39m\u001b[38;5;241m0.55\u001b[39m)\n\u001b[0;32m---> 85\u001b[0m \u001b[43mpg\u001b[49m\u001b[38;5;241;43m.\u001b[39;49m\u001b[43mhotkey\u001b[49m\u001b[43m(\u001b[49m\u001b[38;5;124;43m'\u001b[39;49m\u001b[38;5;124;43mtab\u001b[39;49m\u001b[38;5;124;43m'\u001b[39;49m\u001b[43m)\u001b[49m\n\u001b[1;32m     86\u001b[0m pg\u001b[38;5;241m.\u001b[39mhotkey(\u001b[38;5;124m'\u001b[39m\u001b[38;5;124menter\u001b[39m\u001b[38;5;124m'\u001b[39m)\n\u001b[1;32m     88\u001b[0m \u001b[38;5;66;03m#Second\u001b[39;00m\n",
      "File \u001b[0;32m~/opt/anaconda3/lib/python3.9/site-packages/pyautogui/__init__.py:597\u001b[0m, in \u001b[0;36m_genericPyAutoGUIChecks.<locals>.wrapper\u001b[0;34m(*args, **kwargs)\u001b[0m\n\u001b[1;32m    595\u001b[0m \u001b[38;5;129m@functools\u001b[39m\u001b[38;5;241m.\u001b[39mwraps(wrappedFunction)\n\u001b[1;32m    596\u001b[0m \u001b[38;5;28;01mdef\u001b[39;00m \u001b[38;5;21mwrapper\u001b[39m(\u001b[38;5;241m*\u001b[39margs, \u001b[38;5;241m*\u001b[39m\u001b[38;5;241m*\u001b[39mkwargs):\n\u001b[0;32m--> 597\u001b[0m     \u001b[43mfailSafeCheck\u001b[49m\u001b[43m(\u001b[49m\u001b[43m)\u001b[49m\n\u001b[1;32m    598\u001b[0m     returnVal \u001b[38;5;241m=\u001b[39m wrappedFunction(\u001b[38;5;241m*\u001b[39margs, \u001b[38;5;241m*\u001b[39m\u001b[38;5;241m*\u001b[39mkwargs)\n\u001b[1;32m    599\u001b[0m     _handlePause(kwargs\u001b[38;5;241m.\u001b[39mget(\u001b[38;5;124m\"\u001b[39m\u001b[38;5;124m_pause\u001b[39m\u001b[38;5;124m\"\u001b[39m, \u001b[38;5;28;01mTrue\u001b[39;00m))\n",
      "File \u001b[0;32m~/opt/anaconda3/lib/python3.9/site-packages/pyautogui/__init__.py:1722\u001b[0m, in \u001b[0;36mfailSafeCheck\u001b[0;34m()\u001b[0m\n\u001b[1;32m   1720\u001b[0m \u001b[38;5;28;01mdef\u001b[39;00m \u001b[38;5;21mfailSafeCheck\u001b[39m():\n\u001b[1;32m   1721\u001b[0m     \u001b[38;5;28;01mif\u001b[39;00m FAILSAFE \u001b[38;5;129;01mand\u001b[39;00m \u001b[38;5;28mtuple\u001b[39m(position()) \u001b[38;5;129;01min\u001b[39;00m FAILSAFE_POINTS:\n\u001b[0;32m-> 1722\u001b[0m         \u001b[38;5;28;01mraise\u001b[39;00m FailSafeException(\n\u001b[1;32m   1723\u001b[0m             \u001b[38;5;124m\"\u001b[39m\u001b[38;5;124mPyAutoGUI fail-safe triggered from mouse moving to a corner of the screen. To disable this fail-safe, set pyautogui.FAILSAFE to False. DISABLING FAIL-SAFE IS NOT RECOMMENDED.\u001b[39m\u001b[38;5;124m\"\u001b[39m\n\u001b[1;32m   1724\u001b[0m         )\n",
      "\u001b[0;31mFailSafeException\u001b[0m: PyAutoGUI fail-safe triggered from mouse moving to a corner of the screen. To disable this fail-safe, set pyautogui.FAILSAFE to False. DISABLING FAIL-SAFE IS NOT RECOMMENDED."
     ]
    }
   ],
   "source": [
    "pg.moveTo(300,500)\n",
    "pg.click(button='RIGHT')\n",
    "pg.moveTo(350,650)\n",
    "pg.click()\n",
    "pg.moveTo(820,430)\n",
    "pg.click()\n",
    "pg.hotkey('command','v',interval = 0.15)\n",
    "\n",
    "\n",
    "pg.hotkey('tab')\n",
    "pg.hotkey('enter')\n",
    "pg.moveTo(300,550,duration=0.55)\n",
    "\n",
    "pg.click(button='RIGHT')\n",
    "pg.moveTo(350,660)\n",
    "pg.click()\n",
    "pg.hotkey('command','v',interval = 0.15)\n",
    "\n",
    "pg.hotkey('tab')\n",
    "pg.hotkey('enter')\n",
    "pg.moveTo(300,605,duration=0.55)\n",
    "\n",
    "\n",
    "#Third one\n",
    "pg.click(button='RIGHT')\n",
    "pg.moveTo(350,660)\n",
    "pg.click()\n",
    "pg.hotkey('command','v',interval = 0.15)\n",
    "\n",
    "\n",
    "pg.hotkey('tab')\n",
    "pg.hotkey('enter')\n",
    "pg.moveTo(300,605,duration=0.55)\n",
    "\n",
    "#Scrolling_down\n",
    "pg.moveTo(220,600)\n",
    "pg.click()\n",
    "pg.vscroll(-5)\n",
    "\n",
    "#SecondRound\n",
    "pg.moveTo(300,460)\n",
    "pg.click(button='RIGHT')\n",
    "pg.moveTo(350,600) \n",
    "pg.click()\n",
    "pg.moveTo(820,430)\n",
    "pg.click()\n",
    "pg.hotkey('command','v',interval = 0.15)\n",
    "pg.moveTo(500,1000,duration=0.2)\n",
    "\n",
    "pg.hotkey('tab')\n",
    "pg.hotkey('enter')\n",
    "pg.moveTo(300,510,duration=0.55)\n",
    "#Second\n",
    "pg.click(button='RIGHT')\n",
    "pg.moveTo(350,660)\n",
    "pg.click()\n",
    "pg.hotkey('command','v',interval = 0.15)\n",
    "pg.moveTo(500,1000,duration=0.2)\n",
    "pg.hotkey('tab')\n",
    "\n",
    "pg.hotkey('enter')\n",
    "pg.moveTo(300,560,duration=0.55)\n",
    "#Third\n",
    "pg.click(button='RIGHT')\n",
    "pg.moveTo(350,660)\n",
    "pg.click()\n",
    "pg.hotkey('command','v',interval = 0.15)\n",
    "\n",
    "\n",
    "pg.hotkey('tab')\n",
    "pg.hotkey('enter')\n",
    "pg.moveTo(300,605,duration=0.55)\n",
    "#Scrolling_down\n",
    "pg.moveTo(220,600)\n",
    "pg.click()\n",
    "pg.vscroll(-5)\n",
    "\n",
    "#Third Round\n",
    "pg.moveTo(300,470)\n",
    "pg.click(button='RIGHT')\n",
    "pg.moveTo(350,610)\n",
    "pg.click()\n",
    "pg.moveTo(820,430)\n",
    "pg.click()\n",
    "pg.hotkey('command','v',interval = 0.15)\n",
    "\n",
    "pg.hotkey('tab')\n",
    "pg.hotkey('enter')\n",
    "pg.moveTo(300,520,duration=0.55)\n",
    "\n",
    "#Second\n",
    "pg.click(button='RIGHT')\n",
    "pg.moveTo(350,650)\n",
    "pg.click()\n",
    "pg.hotkey('command','v',interval = 0.15)\n",
    "\n",
    "pg.hotkey('tab')\n",
    "pg.hotkey('enter')\n",
    "pg.moveTo(300,570,duration=0.55)\n",
    "#Third\n",
    "\n",
    "pg.click(button='RIGHT')\n",
    "pg.moveTo(350,660)\n",
    "pg.hotkey('command','v',interval = 0.15)\n",
    "\n",
    "pg.hotkey('tab')\n",
    "pg.hotkey('enter')\n",
    "pg.moveTo(300,605,duration=0.55)\n",
    "\n",
    "pg.moveTo(220,600)\n",
    "pg.click()\n",
    "pg.vscroll(-5)\n",
    "#Fourth\n",
    "work(430,570,480,620,534,660)\n",
    "pg.moveTo(250, 30)\n",
    "pg.click()\n",
    "pg.moveTo(250,100)\n",
    "pg.hotkey('command','a',interval = 0.15)\n",
    "pg.hotkey('command','c',interval = 0.15)\n",
    "pg.moveTo(920,605)\n",
    "pg.click()\n",
    "pg.hotkey('command','v',interval = 0.15)\n",
    "pg.moveTo(950,670)\n"
   ]
  },
  {
   "cell_type": "code",
   "execution_count": 385,
   "id": "2b1a1e9c",
   "metadata": {},
   "outputs": [],
   "source": [
    "pg.moveTo(900,600)"
   ]
  },
  {
   "cell_type": "code",
   "execution_count": 389,
   "id": "6bfc9247",
   "metadata": {},
   "outputs": [],
   "source": [
    "pg.moveTo(950,670)\n",
    "pg.click()"
   ]
  },
  {
   "cell_type": "code",
   "execution_count": 391,
   "id": "5dd72a29",
   "metadata": {},
   "outputs": [],
   "source": [
    "pg.moveTo(250, 30)\n",
    "pg.click()\n",
    "pg.click()\n",
    "pg.moveTo(250,100)\n",
    "pg.hotkey('command','a',interval = 0.15)\n",
    "pg.hotkey('command','c',interval = 0.15)\n",
    "pg.moveTo(920,605)\n",
    "pg.click()\n",
    "pg.hotkey('command','v',interval = 0.15)\n",
    "pg.moveTo(950,670)\n",
    "pg.click()"
   ]
  },
  {
   "cell_type": "code",
   "execution_count": 346,
   "id": "26acd625",
   "metadata": {},
   "outputs": [],
   "source": [
    "pg.moveTo(300,480)\n",
    "pg.click(button='RIGHT')\n",
    "pg.moveTo(350,620)"
   ]
  },
  {
   "cell_type": "code",
   "execution_count": 349,
   "id": "aebb22e7",
   "metadata": {},
   "outputs": [],
   "source": [
    "pg.moveTo(300,430)\n",
    "pg.click(button='RIGHT')\n",
    "pg.moveTo(350,570)"
   ]
  },
  {
   "cell_type": "code",
   "execution_count": 353,
   "id": "aaa33ea9",
   "metadata": {},
   "outputs": [],
   "source": [
    "pg.moveTo(300,534)\n",
    "pg.click(button='RIGHT')\n",
    "pg.moveTo(350,660)"
   ]
  },
  {
   "cell_type": "code",
   "execution_count": 53,
   "id": "2f6bc0f7",
   "metadata": {},
   "outputs": [],
   "source": [
    "import time"
   ]
  },
  {
   "cell_type": "code",
   "execution_count": 355,
   "id": "5f7ff738",
   "metadata": {},
   "outputs": [],
   "source": [
    "work(430,570,480,620,534,660)"
   ]
  },
  {
   "cell_type": "code",
   "execution_count": 367,
   "id": "7e2ccda2",
   "metadata": {},
   "outputs": [],
   "source": [
    "def work(firsty1, firsty2,secy1,secy2,thiy1,thiy2):\n",
    "    pg.moveTo(300,firsty1)\n",
    "    pg.click(button='RIGHT')\n",
    "    pg.moveTo(350,firsty2)\n",
    "    pg.click()\n",
    "    pg.moveTo(820,430)\n",
    "    pg.click()\n",
    "    pg.hotkey('command','v',interval = 0.15)\n",
    "    pg.hotkey('tab')\n",
    "    pg.hotkey('enter')\n",
    "    pg.moveTo(300,secy1,duration=0.55)\n",
    "\n",
    "\n",
    "    #Second\n",
    "    pg.click(button='RIGHT')\n",
    "    pg.moveTo(350,secy2)\n",
    "    pg.click()\n",
    "    pg.hotkey('command','v',interval = 0.15)\n",
    "    pg.moveTo(300,thiy1,duration=0.55)\n",
    "    pg.hotkey('tab')\n",
    "\n",
    "    pg.hotkey('enter')\n",
    "    #Third\n",
    "\n",
    "    pg.click(button='RIGHT')\n",
    "    pg.moveTo(350,thiy2)\n",
    "    pg.hotkey('command','v',interval = 0.15)\n",
    "    pg.hotkey('tab')\n",
    "    pg.hotkey('enter')\n",
    "    pg.moveTo(300,605,duration=0.55)\n",
    "    \n",
    "    #Scrolling_down\n",
    "    pg.moveTo(220,600)\n",
    "    pg.click()\n",
    "    pg.vscroll(-5)"
   ]
  },
  {
   "cell_type": "code",
   "execution_count": 316,
   "id": "78fbe1c4",
   "metadata": {},
   "outputs": [
    {
     "data": {
      "text/plain": [
       "Size(width=1440, height=900)"
      ]
     },
     "execution_count": 316,
     "metadata": {},
     "output_type": "execute_result"
    }
   ],
   "source": [
    "pg.size()"
   ]
  },
  {
   "cell_type": "code",
   "execution_count": 6,
   "id": "de640c0d",
   "metadata": {},
   "outputs": [],
   "source": [
    "df = pd.read_csv('cigar_08_11.csv')"
   ]
  },
  {
   "cell_type": "code",
   "execution_count": 7,
   "id": "d84cdedd",
   "metadata": {},
   "outputs": [
    {
     "name": "stdout",
     "output_type": "stream",
     "text": [
      "toddscottmiller\n"
     ]
    }
   ],
   "source": [
    "user = df['Username']\n",
    "temp = user[0]\n",
    "print(temp)"
   ]
  },
  {
   "cell_type": "code",
   "execution_count": 51,
   "id": "8333d8eb",
   "metadata": {},
   "outputs": [],
   "source": [
    "pg.moveTo(120,240)\n",
    "pg.click()"
   ]
  },
  {
   "cell_type": "code",
   "execution_count": 43,
   "id": "0b98c19c",
   "metadata": {},
   "outputs": [],
   "source": [
    "pg.moveTo(70, 440)"
   ]
  },
  {
   "cell_type": "code",
   "execution_count": 42,
   "id": "2620dd31",
   "metadata": {},
   "outputs": [],
   "source": [
    "pg.moveTo(70, 700)"
   ]
  },
  {
   "cell_type": "code",
   "execution_count": 2,
   "id": "5c7140b0",
   "metadata": {},
   "outputs": [],
   "source": [
    "def select():\n",
    "    pg.moveTo(220,250)\n",
    "    pg.click()\n",
    "    pg.hotkey('enter')\n",
    "    pg.hotkey('command','c',interval = 0.15)\n",
    "    pg.moveTo(920,605)\n",
    "    pg.click()\n",
    "    pg.moveTo(220,250,duration=0.15)\n",
    "    pg.hotkey('command','v',interval = 0.3)\n",
    "    pg.hotkey('tab')\n",
    "    pg.moveTo(220,250,duration=0.15)\n",
    "    pg.hotkey('enter')\n",
    "    pg.moveTo(220,250,duration=0.15)"
   ]
  },
  {
   "cell_type": "code",
   "execution_count": 33,
   "id": "7965a549",
   "metadata": {
    "scrolled": true
   },
   "outputs": [
    {
     "ename": "FailSafeException",
     "evalue": "PyAutoGUI fail-safe triggered from mouse moving to a corner of the screen. To disable this fail-safe, set pyautogui.FAILSAFE to False. DISABLING FAIL-SAFE IS NOT RECOMMENDED.",
     "output_type": "error",
     "traceback": [
      "\u001b[0;31m---------------------------------------------------------------------------\u001b[0m",
      "\u001b[0;31mFailSafeException\u001b[0m                         Traceback (most recent call last)",
      "Input \u001b[0;32mIn [33]\u001b[0m, in \u001b[0;36m<cell line: 9>\u001b[0;34m()\u001b[0m\n\u001b[1;32m      7\u001b[0m pg\u001b[38;5;241m.\u001b[39mhotkey(\u001b[38;5;124m'\u001b[39m\u001b[38;5;124mcommand\u001b[39m\u001b[38;5;124m'\u001b[39m,\u001b[38;5;124m'\u001b[39m\u001b[38;5;124mv\u001b[39m\u001b[38;5;124m'\u001b[39m,interval \u001b[38;5;241m=\u001b[39m \u001b[38;5;241m0.3\u001b[39m)\n\u001b[1;32m      8\u001b[0m pg\u001b[38;5;241m.\u001b[39mhotkey(\u001b[38;5;124m'\u001b[39m\u001b[38;5;124mtab\u001b[39m\u001b[38;5;124m'\u001b[39m,interval\u001b[38;5;241m=\u001b[39m\u001b[38;5;241m0.2\u001b[39m)\n\u001b[0;32m----> 9\u001b[0m \u001b[43mpg\u001b[49m\u001b[38;5;241;43m.\u001b[39;49m\u001b[43mhotkey\u001b[49m\u001b[43m(\u001b[49m\u001b[38;5;124;43m'\u001b[39;49m\u001b[38;5;124;43menter\u001b[39;49m\u001b[38;5;124;43m'\u001b[39;49m\u001b[43m)\u001b[49m\n\u001b[1;32m     10\u001b[0m t\u001b[38;5;241m=\u001b[39m\u001b[38;5;241m0\u001b[39m\n\u001b[1;32m     11\u001b[0m \u001b[38;5;28;01mwhile\u001b[39;00m t \u001b[38;5;241m<\u001b[39m \u001b[38;5;241m10\u001b[39m: \n",
      "File \u001b[0;32m~/opt/anaconda3/lib/python3.9/site-packages/pyautogui/__init__.py:597\u001b[0m, in \u001b[0;36m_genericPyAutoGUIChecks.<locals>.wrapper\u001b[0;34m(*args, **kwargs)\u001b[0m\n\u001b[1;32m    595\u001b[0m \u001b[38;5;129m@functools\u001b[39m\u001b[38;5;241m.\u001b[39mwraps(wrappedFunction)\n\u001b[1;32m    596\u001b[0m \u001b[38;5;28;01mdef\u001b[39;00m \u001b[38;5;21mwrapper\u001b[39m(\u001b[38;5;241m*\u001b[39margs, \u001b[38;5;241m*\u001b[39m\u001b[38;5;241m*\u001b[39mkwargs):\n\u001b[0;32m--> 597\u001b[0m     \u001b[43mfailSafeCheck\u001b[49m\u001b[43m(\u001b[49m\u001b[43m)\u001b[49m\n\u001b[1;32m    598\u001b[0m     returnVal \u001b[38;5;241m=\u001b[39m wrappedFunction(\u001b[38;5;241m*\u001b[39margs, \u001b[38;5;241m*\u001b[39m\u001b[38;5;241m*\u001b[39mkwargs)\n\u001b[1;32m    599\u001b[0m     _handlePause(kwargs\u001b[38;5;241m.\u001b[39mget(\u001b[38;5;124m\"\u001b[39m\u001b[38;5;124m_pause\u001b[39m\u001b[38;5;124m\"\u001b[39m, \u001b[38;5;28;01mTrue\u001b[39;00m))\n",
      "File \u001b[0;32m~/opt/anaconda3/lib/python3.9/site-packages/pyautogui/__init__.py:1722\u001b[0m, in \u001b[0;36mfailSafeCheck\u001b[0;34m()\u001b[0m\n\u001b[1;32m   1720\u001b[0m \u001b[38;5;28;01mdef\u001b[39;00m \u001b[38;5;21mfailSafeCheck\u001b[39m():\n\u001b[1;32m   1721\u001b[0m     \u001b[38;5;28;01mif\u001b[39;00m FAILSAFE \u001b[38;5;129;01mand\u001b[39;00m \u001b[38;5;28mtuple\u001b[39m(position()) \u001b[38;5;129;01min\u001b[39;00m FAILSAFE_POINTS:\n\u001b[0;32m-> 1722\u001b[0m         \u001b[38;5;28;01mraise\u001b[39;00m FailSafeException(\n\u001b[1;32m   1723\u001b[0m             \u001b[38;5;124m\"\u001b[39m\u001b[38;5;124mPyAutoGUI fail-safe triggered from mouse moving to a corner of the screen. To disable this fail-safe, set pyautogui.FAILSAFE to False. DISABLING FAIL-SAFE IS NOT RECOMMENDED.\u001b[39m\u001b[38;5;124m\"\u001b[39m\n\u001b[1;32m   1724\u001b[0m         )\n",
      "\u001b[0;31mFailSafeException\u001b[0m: PyAutoGUI fail-safe triggered from mouse moving to a corner of the screen. To disable this fail-safe, set pyautogui.FAILSAFE to False. DISABLING FAIL-SAFE IS NOT RECOMMENDED."
     ]
    }
   ],
   "source": [
    "pg.moveTo(220,250)\n",
    "pg.click()\n",
    "pg.hotkey('command','c',interval = 0.15)\n",
    "pg.moveTo(920,605)\n",
    "pg.click()\n",
    "pg.moveTo(220,250,duration=0.15)\n",
    "pg.hotkey('command','v',interval = 0.3)\n",
    "pg.hotkey('tab',interval=0.2)\n",
    "pg.hotkey('enter')\n",
    "t=0\n",
    "while t < 10: \n",
    "    t = t + 1\n",
    "    select()\n",
    "pg.moveTo(250, 30)\n",
    "pg.click()\n",
    "pg.moveTo(250,100)\n",
    "pg.hotkey('command','a',interval = 0.15)\n",
    "pg.hotkey('command','c',interval = 0.15)\n",
    "pg.moveTo(915,620)\n",
    "pg.click()\n",
    "pg.click()\n",
    "pg.hotkey('command','v',interval = 0.15)\n",
    "pg.moveTo(950,670)\n"
   ]
  },
  {
   "cell_type": "code",
   "execution_count": 27,
   "id": "bf67aadb",
   "metadata": {},
   "outputs": [],
   "source": [
    "pg.moveTo(70,440)"
   ]
  },
  {
   "cell_type": "code",
   "execution_count": 16,
   "id": "9a99f97a",
   "metadata": {
    "scrolled": true
   },
   "outputs": [],
   "source": [
    "for i in range(3, 13, 2):\n",
    "    a = user[i]\n",
    "    b = user[i+1]\n",
    "    pg.moveTo(120,240)\n",
    "    pg.click()\n",
    "    pg.write(a)\n",
    "    time.sleep(2) \n",
    "    pg.hotkey('tab',interval=0.2)\n",
    "    pg.hotkey('enter')    \n",
    "    \n",
    "    pg.moveTo(1000,240)\n",
    "    pg.click()\n",
    "    pg.write(b)\n",
    "    time.sleep(2)\n",
    "    pg.hotkey('tab',interval=0.2)\n",
    "    pg.hotkey('enter')\n",
    "\n",
    "pg.moveTo(70,440)\n",
    "pg.click()\n",
    "pg.click()\n",
    "pg.write('Hey there!' + \n",
    "         'I saw you’re a business owner! Did you know that business owners are eligible to receive $26k back per employee from the IRS?'+\n",
    "         ' It’s called the Employee Retention Credit (ERC)! Check out the link in @funding.solutions_ to see how much you qualify for!',\n",
    "         interval=0.1)\n",
    "pg.moveTo(770,440)\n",
    "pg.click()\n",
    "pg.click()\n",
    "pg.write('Hey there!' + \n",
    "         'I saw you’re a business owner! Did you know that business owners are eligible to receive $26k back per employee from the IRS?'+\n",
    "         ' It’s called the Employee Retention Credit (ERC)! Check out the link in @funding.solutions_ to see how much you qualify for!',\n",
    "         interval=0.1)"
   ]
  },
  {
   "cell_type": "code",
   "execution_count": null,
   "id": "fcd769d1",
   "metadata": {},
   "outputs": [],
   "source": []
  },
  {
   "cell_type": "raw",
   "id": "75958e78",
   "metadata": {},
   "source": []
  }
 ],
 "metadata": {
  "kernelspec": {
   "display_name": "Python 3 (ipykernel)",
   "language": "python",
   "name": "python3"
  },
  "language_info": {
   "codemirror_mode": {
    "name": "ipython",
    "version": 3
   },
   "file_extension": ".py",
   "mimetype": "text/x-python",
   "name": "python",
   "nbconvert_exporter": "python",
   "pygments_lexer": "ipython3",
   "version": "3.9.12"
  }
 },
 "nbformat": 4,
 "nbformat_minor": 5
}
